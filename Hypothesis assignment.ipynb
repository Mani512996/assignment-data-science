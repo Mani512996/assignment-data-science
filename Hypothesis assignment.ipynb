{
 "cells": [
  {
   "cell_type": "code",
   "execution_count": 1,
   "id": "200926aa",
   "metadata": {
    "ExecuteTime": {
     "end_time": "2022-04-02T19:15:20.857977Z",
     "start_time": "2022-04-02T19:14:32.637943Z"
    }
   },
   "outputs": [],
   "source": [
    "import pandas as pd\n",
    "import scipy \n",
    "import numpy as np\n",
    "from scipy import stats "
   ]
  },
  {
   "cell_type": "code",
   "execution_count": 2,
   "id": "483a54eb",
   "metadata": {
    "ExecuteTime": {
     "end_time": "2022-04-02T19:15:21.137853Z",
     "start_time": "2022-04-02T19:15:20.878441Z"
    }
   },
   "outputs": [],
   "source": [
    "#Assignment1 \n",
    "q1 = pd.read_csv(\"Cutlets.csv\")"
   ]
  },
  {
   "cell_type": "code",
   "execution_count": 3,
   "id": "73d0b9aa",
   "metadata": {
    "ExecuteTime": {
     "end_time": "2022-03-23T18:29:35.970919Z",
     "start_time": "2022-03-23T18:29:35.943930Z"
    }
   },
   "outputs": [
    {
     "name": "stdout",
     "output_type": "stream",
     "text": [
      "<class 'pandas.core.frame.DataFrame'>\n",
      "RangeIndex: 35 entries, 0 to 34\n",
      "Data columns (total 2 columns):\n",
      " #   Column  Non-Null Count  Dtype  \n",
      "---  ------  --------------  -----  \n",
      " 0   Unit A  35 non-null     float64\n",
      " 1   Unit B  35 non-null     float64\n",
      "dtypes: float64(2)\n",
      "memory usage: 688.0 bytes\n"
     ]
    }
   ],
   "source": [
    "q1.info()"
   ]
  },
  {
   "cell_type": "code",
   "execution_count": 4,
   "id": "36ea40e1",
   "metadata": {
    "ExecuteTime": {
     "end_time": "2022-03-23T18:29:36.206259Z",
     "start_time": "2022-03-23T18:29:36.074863Z"
    }
   },
   "outputs": [
    {
     "data": {
      "text/html": [
       "<div>\n",
       "<style scoped>\n",
       "    .dataframe tbody tr th:only-of-type {\n",
       "        vertical-align: middle;\n",
       "    }\n",
       "\n",
       "    .dataframe tbody tr th {\n",
       "        vertical-align: top;\n",
       "    }\n",
       "\n",
       "    .dataframe thead th {\n",
       "        text-align: right;\n",
       "    }\n",
       "</style>\n",
       "<table border=\"1\" class=\"dataframe\">\n",
       "  <thead>\n",
       "    <tr style=\"text-align: right;\">\n",
       "      <th></th>\n",
       "      <th>Unit A</th>\n",
       "      <th>Unit B</th>\n",
       "    </tr>\n",
       "  </thead>\n",
       "  <tbody>\n",
       "    <tr>\n",
       "      <th>count</th>\n",
       "      <td>35.000000</td>\n",
       "      <td>35.000000</td>\n",
       "    </tr>\n",
       "    <tr>\n",
       "      <th>mean</th>\n",
       "      <td>7.019091</td>\n",
       "      <td>6.964297</td>\n",
       "    </tr>\n",
       "    <tr>\n",
       "      <th>std</th>\n",
       "      <td>0.288408</td>\n",
       "      <td>0.343401</td>\n",
       "    </tr>\n",
       "    <tr>\n",
       "      <th>min</th>\n",
       "      <td>6.437600</td>\n",
       "      <td>6.038000</td>\n",
       "    </tr>\n",
       "    <tr>\n",
       "      <th>25%</th>\n",
       "      <td>6.831500</td>\n",
       "      <td>6.753600</td>\n",
       "    </tr>\n",
       "    <tr>\n",
       "      <th>50%</th>\n",
       "      <td>6.943800</td>\n",
       "      <td>6.939900</td>\n",
       "    </tr>\n",
       "    <tr>\n",
       "      <th>75%</th>\n",
       "      <td>7.280550</td>\n",
       "      <td>7.195000</td>\n",
       "    </tr>\n",
       "    <tr>\n",
       "      <th>max</th>\n",
       "      <td>7.516900</td>\n",
       "      <td>7.545900</td>\n",
       "    </tr>\n",
       "  </tbody>\n",
       "</table>\n",
       "</div>"
      ],
      "text/plain": [
       "          Unit A     Unit B\n",
       "count  35.000000  35.000000\n",
       "mean    7.019091   6.964297\n",
       "std     0.288408   0.343401\n",
       "min     6.437600   6.038000\n",
       "25%     6.831500   6.753600\n",
       "50%     6.943800   6.939900\n",
       "75%     7.280550   7.195000\n",
       "max     7.516900   7.545900"
      ]
     },
     "execution_count": 4,
     "metadata": {},
     "output_type": "execute_result"
    }
   ],
   "source": [
    "q1.describe()"
   ]
  },
  {
   "cell_type": "markdown",
   "id": "99eec752",
   "metadata": {
    "ExecuteTime": {
     "end_time": "2022-03-23T07:40:52.725940Z",
     "start_time": "2022-03-23T07:40:52.713950Z"
    }
   },
   "source": []
  },
  {
   "cell_type": "code",
   "execution_count": 9,
   "id": "7bdb32b1",
   "metadata": {
    "ExecuteTime": {
     "end_time": "2022-03-24T10:05:57.359927Z",
     "start_time": "2022-03-24T10:05:57.299963Z"
    },
    "run_control": {
     "marked": true
    }
   },
   "outputs": [],
   "source": [
    " #assignment 2 \n",
    "    \n",
    "q2=pd.read_csv(\"LabTAT.csv\") "
   ]
  },
  {
   "cell_type": "code",
   "execution_count": 6,
   "id": "cf1cffe9",
   "metadata": {
    "ExecuteTime": {
     "end_time": "2022-03-24T10:05:57.831658Z",
     "start_time": "2022-03-24T10:05:57.410900Z"
    }
   },
   "outputs": [
    {
     "name": "stdout",
     "output_type": "stream",
     "text": [
      "<class 'pandas.core.frame.DataFrame'>\n",
      "RangeIndex: 120 entries, 0 to 119\n",
      "Data columns (total 4 columns):\n",
      " #   Column        Non-Null Count  Dtype  \n",
      "---  ------        --------------  -----  \n",
      " 0   Laboratory 1  120 non-null    float64\n",
      " 1   Laboratory 2  120 non-null    float64\n",
      " 2   Laboratory 3  120 non-null    float64\n",
      " 3   Laboratory 4  120 non-null    float64\n",
      "dtypes: float64(4)\n",
      "memory usage: 3.9 KB\n"
     ]
    }
   ],
   "source": [
    "q2.info()"
   ]
  },
  {
   "cell_type": "code",
   "execution_count": 7,
   "id": "34b2f13d",
   "metadata": {
    "ExecuteTime": {
     "end_time": "2022-03-24T10:05:58.208370Z",
     "start_time": "2022-03-24T10:05:57.884629Z"
    }
   },
   "outputs": [
    {
     "data": {
      "text/html": [
       "<div>\n",
       "<style scoped>\n",
       "    .dataframe tbody tr th:only-of-type {\n",
       "        vertical-align: middle;\n",
       "    }\n",
       "\n",
       "    .dataframe tbody tr th {\n",
       "        vertical-align: top;\n",
       "    }\n",
       "\n",
       "    .dataframe thead th {\n",
       "        text-align: right;\n",
       "    }\n",
       "</style>\n",
       "<table border=\"1\" class=\"dataframe\">\n",
       "  <thead>\n",
       "    <tr style=\"text-align: right;\">\n",
       "      <th></th>\n",
       "      <th>Laboratory 1</th>\n",
       "      <th>Laboratory 2</th>\n",
       "      <th>Laboratory 3</th>\n",
       "      <th>Laboratory 4</th>\n",
       "    </tr>\n",
       "  </thead>\n",
       "  <tbody>\n",
       "    <tr>\n",
       "      <th>count</th>\n",
       "      <td>120.000000</td>\n",
       "      <td>120.000000</td>\n",
       "      <td>120.000000</td>\n",
       "      <td>120.00000</td>\n",
       "    </tr>\n",
       "    <tr>\n",
       "      <th>mean</th>\n",
       "      <td>178.361583</td>\n",
       "      <td>178.902917</td>\n",
       "      <td>199.913250</td>\n",
       "      <td>163.68275</td>\n",
       "    </tr>\n",
       "    <tr>\n",
       "      <th>std</th>\n",
       "      <td>13.173594</td>\n",
       "      <td>14.957114</td>\n",
       "      <td>16.539033</td>\n",
       "      <td>15.08508</td>\n",
       "    </tr>\n",
       "    <tr>\n",
       "      <th>min</th>\n",
       "      <td>138.300000</td>\n",
       "      <td>140.550000</td>\n",
       "      <td>159.690000</td>\n",
       "      <td>124.06000</td>\n",
       "    </tr>\n",
       "    <tr>\n",
       "      <th>25%</th>\n",
       "      <td>170.335000</td>\n",
       "      <td>168.025000</td>\n",
       "      <td>188.232500</td>\n",
       "      <td>154.05000</td>\n",
       "    </tr>\n",
       "    <tr>\n",
       "      <th>50%</th>\n",
       "      <td>178.530000</td>\n",
       "      <td>178.870000</td>\n",
       "      <td>199.805000</td>\n",
       "      <td>164.42500</td>\n",
       "    </tr>\n",
       "    <tr>\n",
       "      <th>75%</th>\n",
       "      <td>186.535000</td>\n",
       "      <td>189.112500</td>\n",
       "      <td>211.332500</td>\n",
       "      <td>172.88250</td>\n",
       "    </tr>\n",
       "    <tr>\n",
       "      <th>max</th>\n",
       "      <td>216.390000</td>\n",
       "      <td>217.860000</td>\n",
       "      <td>238.700000</td>\n",
       "      <td>205.18000</td>\n",
       "    </tr>\n",
       "  </tbody>\n",
       "</table>\n",
       "</div>"
      ],
      "text/plain": [
       "       Laboratory 1  Laboratory 2  Laboratory 3  Laboratory 4\n",
       "count    120.000000    120.000000    120.000000     120.00000\n",
       "mean     178.361583    178.902917    199.913250     163.68275\n",
       "std       13.173594     14.957114     16.539033      15.08508\n",
       "min      138.300000    140.550000    159.690000     124.06000\n",
       "25%      170.335000    168.025000    188.232500     154.05000\n",
       "50%      178.530000    178.870000    199.805000     164.42500\n",
       "75%      186.535000    189.112500    211.332500     172.88250\n",
       "max      216.390000    217.860000    238.700000     205.18000"
      ]
     },
     "execution_count": 7,
     "metadata": {},
     "output_type": "execute_result"
    }
   ],
   "source": [
    "q2.describe()"
   ]
  },
  {
   "cell_type": "code",
   "execution_count": 8,
   "id": "08e17d0b",
   "metadata": {
    "ExecuteTime": {
     "end_time": "2022-03-24T10:08:31.967419Z",
     "start_time": "2022-03-24T10:08:31.946435Z"
    }
   },
   "outputs": [
    {
     "data": {
      "text/plain": [
       "Laboratory 1    13.173594\n",
       "Laboratory 2    14.957114\n",
       "Laboratory 3    16.539033\n",
       "Laboratory 4    15.085080\n",
       "dtype: float64"
      ]
     },
     "execution_count": 8,
     "metadata": {},
     "output_type": "execute_result"
    }
   ],
   "source": [
    "q2.std()"
   ]
  },
  {
   "cell_type": "code",
   "execution_count": 10,
   "id": "ba7f7db6",
   "metadata": {
    "ExecuteTime": {
     "end_time": "2022-03-24T10:10:50.609477Z",
     "start_time": "2022-03-24T10:10:50.589487Z"
    }
   },
   "outputs": [
    {
     "data": {
      "text/plain": [
       "1.364107812161678"
      ]
     },
     "execution_count": 10,
     "metadata": {},
     "output_type": "execute_result"
    }
   ],
   "source": [
    "(180-178.36)/(13.17/np.sqrt(120))"
   ]
  },
  {
   "cell_type": "code",
   "execution_count": 12,
   "id": "adfb4d43",
   "metadata": {
    "ExecuteTime": {
     "end_time": "2022-03-24T10:13:23.217085Z",
     "start_time": "2022-03-24T10:13:23.191100Z"
    }
   },
   "outputs": [
    {
     "data": {
      "text/plain": [
       "0.15779830730448866"
      ]
     },
     "execution_count": 12,
     "metadata": {},
     "output_type": "execute_result"
    }
   ],
   "source": [
    "stats.t.pdf(1.36,df=119)"
   ]
  },
  {
   "cell_type": "code",
   "execution_count": 11,
   "id": "33385c7a",
   "metadata": {},
   "outputs": [
    {
     "data": {
      "text/plain": [
       "0.8060131281012437"
      ]
     },
     "execution_count": 11,
     "metadata": {},
     "output_type": "execute_result"
    }
   ],
   "source": [
    "(180-178.9)/(14.95/np.sqrt(120))"
   ]
  },
  {
   "cell_type": "code",
   "execution_count": 13,
   "id": "7fdf60b7",
   "metadata": {},
   "outputs": [
    {
     "data": {
      "text/plain": [
       "0.28855666846605266"
      ]
     },
     "execution_count": 13,
     "metadata": {},
     "output_type": "execute_result"
    }
   ],
   "source": [
    "stats.t.pdf(0.80,df=119)"
   ]
  },
  {
   "cell_type": "code",
   "execution_count": 18,
   "id": "2c2758f9",
   "metadata": {},
   "outputs": [
    {
     "data": {
      "text/plain": [
       "0.6639061303092922"
      ]
     },
     "execution_count": 18,
     "metadata": {},
     "output_type": "execute_result"
    }
   ],
   "source": [
    "(200-199)/(16.5/np.sqrt(120))"
   ]
  },
  {
   "cell_type": "code",
   "execution_count": 19,
   "id": "25053419",
   "metadata": {},
   "outputs": [
    {
     "data": {
      "text/plain": [
       "0.31973312981391117"
      ]
     },
     "execution_count": 19,
     "metadata": {},
     "output_type": "execute_result"
    }
   ],
   "source": [
    "stats.t.pdf(0.66,df=119)"
   ]
  },
  {
   "cell_type": "code",
   "execution_count": 21,
   "id": "cc9f02de",
   "metadata": {},
   "outputs": [
    {
     "data": {
      "text/plain": [
       "1.0954451150103321"
      ]
     },
     "execution_count": 21,
     "metadata": {},
     "output_type": "execute_result"
    }
   ],
   "source": [
    "(165-163.5)/(15/np.sqrt(120))"
   ]
  },
  {
   "cell_type": "code",
   "execution_count": null,
   "id": "7185c2cc",
   "metadata": {
    "ExecuteTime": {
     "start_time": "2022-03-28T08:56:37.445Z"
    }
   },
   "outputs": [],
   "source": [
    "stats.t.pdf(0.31,df=119)"
   ]
  },
  {
   "cell_type": "code",
   "execution_count": 48,
   "id": "4cb3ce54",
   "metadata": {
    "ExecuteTime": {
     "end_time": "2022-03-29T07:18:36.147091Z",
     "start_time": "2022-03-29T07:18:36.131100Z"
    }
   },
   "outputs": [],
   "source": [
    "q3=pd.read_csv(\"BuyerRatio.csv\") #assignment 3"
   ]
  },
  {
   "cell_type": "code",
   "execution_count": 10,
   "id": "e87fa222",
   "metadata": {
    "ExecuteTime": {
     "end_time": "2022-03-29T07:00:38.281217Z",
     "start_time": "2022-03-29T07:00:38.239227Z"
    }
   },
   "outputs": [
    {
     "data": {
      "text/html": [
       "<div>\n",
       "<style scoped>\n",
       "    .dataframe tbody tr th:only-of-type {\n",
       "        vertical-align: middle;\n",
       "    }\n",
       "\n",
       "    .dataframe tbody tr th {\n",
       "        vertical-align: top;\n",
       "    }\n",
       "\n",
       "    .dataframe thead th {\n",
       "        text-align: right;\n",
       "    }\n",
       "</style>\n",
       "<table border=\"1\" class=\"dataframe\">\n",
       "  <thead>\n",
       "    <tr style=\"text-align: right;\">\n",
       "      <th></th>\n",
       "      <th>East</th>\n",
       "      <th>West</th>\n",
       "      <th>North</th>\n",
       "      <th>South</th>\n",
       "    </tr>\n",
       "  </thead>\n",
       "  <tbody>\n",
       "    <tr>\n",
       "      <th>count</th>\n",
       "      <td>2.000000</td>\n",
       "      <td>2.000000</td>\n",
       "      <td>2.000000</td>\n",
       "      <td>2.000000</td>\n",
       "    </tr>\n",
       "    <tr>\n",
       "      <th>mean</th>\n",
       "      <td>242.500000</td>\n",
       "      <td>832.500000</td>\n",
       "      <td>743.500000</td>\n",
       "      <td>410.000000</td>\n",
       "    </tr>\n",
       "    <tr>\n",
       "      <th>std</th>\n",
       "      <td>272.236111</td>\n",
       "      <td>976.514465</td>\n",
       "      <td>866.205807</td>\n",
       "      <td>480.832611</td>\n",
       "    </tr>\n",
       "    <tr>\n",
       "      <th>min</th>\n",
       "      <td>50.000000</td>\n",
       "      <td>142.000000</td>\n",
       "      <td>131.000000</td>\n",
       "      <td>70.000000</td>\n",
       "    </tr>\n",
       "    <tr>\n",
       "      <th>25%</th>\n",
       "      <td>146.250000</td>\n",
       "      <td>487.250000</td>\n",
       "      <td>437.250000</td>\n",
       "      <td>240.000000</td>\n",
       "    </tr>\n",
       "    <tr>\n",
       "      <th>50%</th>\n",
       "      <td>242.500000</td>\n",
       "      <td>832.500000</td>\n",
       "      <td>743.500000</td>\n",
       "      <td>410.000000</td>\n",
       "    </tr>\n",
       "    <tr>\n",
       "      <th>75%</th>\n",
       "      <td>338.750000</td>\n",
       "      <td>1177.750000</td>\n",
       "      <td>1049.750000</td>\n",
       "      <td>580.000000</td>\n",
       "    </tr>\n",
       "    <tr>\n",
       "      <th>max</th>\n",
       "      <td>435.000000</td>\n",
       "      <td>1523.000000</td>\n",
       "      <td>1356.000000</td>\n",
       "      <td>750.000000</td>\n",
       "    </tr>\n",
       "  </tbody>\n",
       "</table>\n",
       "</div>"
      ],
      "text/plain": [
       "             East         West        North       South\n",
       "count    2.000000     2.000000     2.000000    2.000000\n",
       "mean   242.500000   832.500000   743.500000  410.000000\n",
       "std    272.236111   976.514465   866.205807  480.832611\n",
       "min     50.000000   142.000000   131.000000   70.000000\n",
       "25%    146.250000   487.250000   437.250000  240.000000\n",
       "50%    242.500000   832.500000   743.500000  410.000000\n",
       "75%    338.750000  1177.750000  1049.750000  580.000000\n",
       "max    435.000000  1523.000000  1356.000000  750.000000"
      ]
     },
     "execution_count": 10,
     "metadata": {},
     "output_type": "execute_result"
    }
   ],
   "source": [
    "q3.describe()\n"
   ]
  },
  {
   "cell_type": "code",
   "execution_count": 22,
   "id": "85eb1b0a",
   "metadata": {
    "ExecuteTime": {
     "end_time": "2022-03-29T07:09:10.621669Z",
     "start_time": "2022-03-29T07:09:10.603679Z"
    }
   },
   "outputs": [
    {
     "data": {
      "text/plain": [
       "0.04155937442230746"
      ]
     },
     "execution_count": 22,
     "metadata": {},
     "output_type": "execute_result"
    }
   ],
   "source": [
    "(250-242)/(272.23/np.sqrt(2))"
   ]
  },
  {
   "cell_type": "code",
   "execution_count": 42,
   "id": "958a0946",
   "metadata": {
    "ExecuteTime": {
     "end_time": "2022-03-29T07:16:45.430711Z",
     "start_time": "2022-03-29T07:16:45.393733Z"
    }
   },
   "outputs": [
    {
     "data": {
      "text/plain": [
       "0.31780140393749073"
      ]
     },
     "execution_count": 42,
     "metadata": {},
     "output_type": "execute_result"
    }
   ],
   "source": [
    "\n",
    "\n",
    "\n",
    "stats.t.pdf(0.04,df=1)"
   ]
  },
  {
   "cell_type": "code",
   "execution_count": 44,
   "id": "20b8bb3e",
   "metadata": {
    "ExecuteTime": {
     "end_time": "2022-03-29T07:17:36.477035Z",
     "start_time": "2022-03-29T07:17:36.457047Z"
    }
   },
   "outputs": [
    {
     "data": {
      "text/plain": [
       "0.02534432907478665"
      ]
     },
     "execution_count": 44,
     "metadata": {},
     "output_type": "execute_result"
    }
   ],
   "source": [
    "(850-832.5)/(976.5/np.sqrt(2))"
   ]
  },
  {
   "cell_type": "code",
   "execution_count": 46,
   "id": "873304e2",
   "metadata": {
    "ExecuteTime": {
     "end_time": "2022-03-29T07:18:05.234567Z",
     "start_time": "2022-03-29T07:18:05.217576Z"
    }
   },
   "outputs": [
    {
     "data": {
      "text/plain": [
       "0.31818261313853535"
      ]
     },
     "execution_count": 46,
     "metadata": {},
     "output_type": "execute_result"
    }
   ],
   "source": [
    "stats.t.pdf(0.02,df=1)"
   ]
  },
  {
   "cell_type": "code",
   "execution_count": 50,
   "id": "c441b988",
   "metadata": {
    "ExecuteTime": {
     "end_time": "2022-03-29T07:26:15.706480Z",
     "start_time": "2022-03-29T07:26:15.366609Z"
    }
   },
   "outputs": [
    {
     "data": {
      "text/plain": [
       "0.010612316041820731"
      ]
     },
     "execution_count": 50,
     "metadata": {},
     "output_type": "execute_result"
    }
   ],
   "source": [
    "(750-743.5)/(866.2/np.sqrt(2))"
   ]
  },
  {
   "cell_type": "code",
   "execution_count": 53,
   "id": "7f871530",
   "metadata": {
    "ExecuteTime": {
     "end_time": "2022-03-29T07:26:46.418789Z",
     "start_time": "2022-03-29T07:26:46.398803Z"
    }
   },
   "outputs": [
    {
     "data": {
      "text/plain": [
       "0.3182741249031167"
      ]
     },
     "execution_count": 53,
     "metadata": {},
     "output_type": "execute_result"
    }
   ],
   "source": [
    "stats.t.pdf(0.0106,df=1)"
   ]
  },
  {
   "cell_type": "code",
   "execution_count": 55,
   "id": "3eddea96",
   "metadata": {
    "ExecuteTime": {
     "end_time": "2022-03-29T07:27:30.691629Z",
     "start_time": "2022-03-29T07:27:30.667621Z"
    }
   },
   "outputs": [
    {
     "data": {
      "text/plain": [
       "0.014705962215056207"
      ]
     },
     "execution_count": 55,
     "metadata": {},
     "output_type": "execute_result"
    }
   ],
   "source": [
    "(415-410)/(480.83/np.sqrt(2))"
   ]
  },
  {
   "cell_type": "code",
   "execution_count": 57,
   "id": "d49c3d6f",
   "metadata": {
    "ExecuteTime": {
     "end_time": "2022-03-29T07:28:31.028483Z",
     "start_time": "2022-03-29T07:28:31.012488Z"
    }
   },
   "outputs": [
    {
     "data": {
      "text/plain": [
       "0.318247509671895"
      ]
     },
     "execution_count": 57,
     "metadata": {},
     "output_type": "execute_result"
    }
   ],
   "source": [
    "stats.t.pdf(0.014,df=1)"
   ]
  },
  {
   "cell_type": "code",
   "execution_count": 61,
   "id": "417c1262",
   "metadata": {
    "ExecuteTime": {
     "end_time": "2022-03-29T07:30:54.503347Z",
     "start_time": "2022-03-29T07:30:54.485362Z"
    }
   },
   "outputs": [],
   "source": [
    "q4=pd.read_csv(\"Costomer+OrderForm.csv\")"
   ]
  },
  {
   "cell_type": "code",
   "execution_count": 59,
   "id": "07d90280",
   "metadata": {
    "ExecuteTime": {
     "end_time": "2022-04-02T10:06:04.354243Z",
     "start_time": "2022-04-02T10:06:04.319263Z"
    }
   },
   "outputs": [
    {
     "ename": "NameError",
     "evalue": "name 'q4' is not defined",
     "output_type": "error",
     "traceback": [
      "\u001b[1;31m---------------------------------------------------------------------------\u001b[0m",
      "\u001b[1;31mNameError\u001b[0m                                 Traceback (most recent call last)",
      "\u001b[1;32m<ipython-input-59-4cf24a0bc506>\u001b[0m in \u001b[0;36m<module>\u001b[1;34m\u001b[0m\n\u001b[1;32m----> 1\u001b[1;33m \u001b[0mq4\u001b[0m\u001b[1;33m.\u001b[0m\u001b[0mdescribe\u001b[0m\u001b[1;33m(\u001b[0m\u001b[1;33m)\u001b[0m\u001b[1;33m\u001b[0m\u001b[1;33m\u001b[0m\u001b[0m\n\u001b[0m",
      "\u001b[1;31mNameError\u001b[0m: name 'q4' is not defined"
     ]
    }
   ],
   "source": [
    "q4.describe()"
   ]
  },
  {
   "cell_type": "code",
   "execution_count": 71,
   "id": "dc63131c",
   "metadata": {
    "ExecuteTime": {
     "end_time": "2022-03-29T07:32:48.565774Z",
     "start_time": "2022-03-29T07:32:48.248463Z"
    }
   },
   "outputs": [
    {
     "name": "stdout",
     "output_type": "stream",
     "text": [
      "<class 'pandas.core.frame.DataFrame'>\n",
      "RangeIndex: 300 entries, 0 to 299\n",
      "Data columns (total 4 columns):\n",
      " #   Column        Non-Null Count  Dtype \n",
      "---  ------        --------------  ----- \n",
      " 0   Phillippines  300 non-null    object\n",
      " 1   Indonesia     300 non-null    object\n",
      " 2   Malta         300 non-null    object\n",
      " 3   India         300 non-null    object\n",
      "dtypes: object(4)\n",
      "memory usage: 9.5+ KB\n"
     ]
    }
   ],
   "source": [
    "q4.info()"
   ]
  },
  {
   "cell_type": "code",
   "execution_count": 11,
   "id": "7f55d3aa",
   "metadata": {
    "ExecuteTime": {
     "end_time": "2022-04-02T19:19:41.774875Z",
     "start_time": "2022-04-02T19:19:41.651793Z"
    }
   },
   "outputs": [
    {
     "data": {
      "text/html": [
       "<div>\n",
       "<style scoped>\n",
       "    .dataframe tbody tr th:only-of-type {\n",
       "        vertical-align: middle;\n",
       "    }\n",
       "\n",
       "    .dataframe tbody tr th {\n",
       "        vertical-align: top;\n",
       "    }\n",
       "\n",
       "    .dataframe thead th {\n",
       "        text-align: right;\n",
       "    }\n",
       "</style>\n",
       "<table border=\"1\" class=\"dataframe\">\n",
       "  <thead>\n",
       "    <tr style=\"text-align: right;\">\n",
       "      <th></th>\n",
       "      <th>Phillippines</th>\n",
       "      <th>Indonesia</th>\n",
       "      <th>Malta</th>\n",
       "      <th>India</th>\n",
       "    </tr>\n",
       "  </thead>\n",
       "  <tbody>\n",
       "    <tr>\n",
       "      <th>0</th>\n",
       "      <td>Error Free</td>\n",
       "      <td>Error Free</td>\n",
       "      <td>Defective</td>\n",
       "      <td>Error Free</td>\n",
       "    </tr>\n",
       "    <tr>\n",
       "      <th>1</th>\n",
       "      <td>Error Free</td>\n",
       "      <td>Error Free</td>\n",
       "      <td>Error Free</td>\n",
       "      <td>Defective</td>\n",
       "    </tr>\n",
       "    <tr>\n",
       "      <th>2</th>\n",
       "      <td>Error Free</td>\n",
       "      <td>Defective</td>\n",
       "      <td>Defective</td>\n",
       "      <td>Error Free</td>\n",
       "    </tr>\n",
       "    <tr>\n",
       "      <th>3</th>\n",
       "      <td>Error Free</td>\n",
       "      <td>Error Free</td>\n",
       "      <td>Error Free</td>\n",
       "      <td>Error Free</td>\n",
       "    </tr>\n",
       "    <tr>\n",
       "      <th>4</th>\n",
       "      <td>Error Free</td>\n",
       "      <td>Error Free</td>\n",
       "      <td>Defective</td>\n",
       "      <td>Error Free</td>\n",
       "    </tr>\n",
       "    <tr>\n",
       "      <th>...</th>\n",
       "      <td>...</td>\n",
       "      <td>...</td>\n",
       "      <td>...</td>\n",
       "      <td>...</td>\n",
       "    </tr>\n",
       "    <tr>\n",
       "      <th>295</th>\n",
       "      <td>Error Free</td>\n",
       "      <td>Error Free</td>\n",
       "      <td>Error Free</td>\n",
       "      <td>Error Free</td>\n",
       "    </tr>\n",
       "    <tr>\n",
       "      <th>296</th>\n",
       "      <td>Error Free</td>\n",
       "      <td>Error Free</td>\n",
       "      <td>Error Free</td>\n",
       "      <td>Error Free</td>\n",
       "    </tr>\n",
       "    <tr>\n",
       "      <th>297</th>\n",
       "      <td>Error Free</td>\n",
       "      <td>Error Free</td>\n",
       "      <td>Defective</td>\n",
       "      <td>Error Free</td>\n",
       "    </tr>\n",
       "    <tr>\n",
       "      <th>298</th>\n",
       "      <td>Error Free</td>\n",
       "      <td>Error Free</td>\n",
       "      <td>Error Free</td>\n",
       "      <td>Error Free</td>\n",
       "    </tr>\n",
       "    <tr>\n",
       "      <th>299</th>\n",
       "      <td>Error Free</td>\n",
       "      <td>Defective</td>\n",
       "      <td>Defective</td>\n",
       "      <td>Error Free</td>\n",
       "    </tr>\n",
       "  </tbody>\n",
       "</table>\n",
       "<p>300 rows × 4 columns</p>\n",
       "</div>"
      ],
      "text/plain": [
       "    Phillippines   Indonesia       Malta       India\n",
       "0     Error Free  Error Free   Defective  Error Free\n",
       "1     Error Free  Error Free  Error Free   Defective\n",
       "2     Error Free   Defective   Defective  Error Free\n",
       "3     Error Free  Error Free  Error Free  Error Free\n",
       "4     Error Free  Error Free   Defective  Error Free\n",
       "..           ...         ...         ...         ...\n",
       "295   Error Free  Error Free  Error Free  Error Free\n",
       "296   Error Free  Error Free  Error Free  Error Free\n",
       "297   Error Free  Error Free   Defective  Error Free\n",
       "298   Error Free  Error Free  Error Free  Error Free\n",
       "299   Error Free   Defective   Defective  Error Free\n",
       "\n",
       "[300 rows x 4 columns]"
      ]
     },
     "execution_count": 11,
     "metadata": {},
     "output_type": "execute_result"
    }
   ],
   "source": [
    "q41 = pd.read_excel(\"Costomer-OrderForm-_1_.xlsx\")\n",
    "q41"
   ]
  },
  {
   "cell_type": "code",
   "execution_count": 5,
   "id": "efb7e89f",
   "metadata": {
    "ExecuteTime": {
     "end_time": "2022-04-02T19:16:07.713714Z",
     "start_time": "2022-04-02T19:15:59.123855Z"
    }
   },
   "outputs": [
    {
     "data": {
      "text/html": [
       "<div>\n",
       "<style scoped>\n",
       "    .dataframe tbody tr th:only-of-type {\n",
       "        vertical-align: middle;\n",
       "    }\n",
       "\n",
       "    .dataframe tbody tr th {\n",
       "        vertical-align: top;\n",
       "    }\n",
       "\n",
       "    .dataframe thead th {\n",
       "        text-align: right;\n",
       "    }\n",
       "</style>\n",
       "<table border=\"1\" class=\"dataframe\">\n",
       "  <thead>\n",
       "    <tr style=\"text-align: right;\">\n",
       "      <th>Malta</th>\n",
       "      <th>Defective</th>\n",
       "      <th>Error Free</th>\n",
       "    </tr>\n",
       "    <tr>\n",
       "      <th>India</th>\n",
       "      <th></th>\n",
       "      <th></th>\n",
       "    </tr>\n",
       "  </thead>\n",
       "  <tbody>\n",
       "    <tr>\n",
       "      <th>Defective</th>\n",
       "      <td>0</td>\n",
       "      <td>20</td>\n",
       "    </tr>\n",
       "    <tr>\n",
       "      <th>Error Free</th>\n",
       "      <td>31</td>\n",
       "      <td>249</td>\n",
       "    </tr>\n",
       "  </tbody>\n",
       "</table>\n",
       "</div>"
      ],
      "text/plain": [
       "Malta       Defective  Error Free\n",
       "India                            \n",
       "Defective           0          20\n",
       "Error Free         31         249"
      ]
     },
     "execution_count": 5,
     "metadata": {},
     "output_type": "execute_result"
    }
   ],
   "source": [
    " q41=pd.crosstab(q41[\"India\"],q41[\"Malta\"])\n",
    "q41"
   ]
  },
  {
   "cell_type": "code",
   "execution_count": 6,
   "id": "bbe293e5",
   "metadata": {
    "ExecuteTime": {
     "end_time": "2022-04-02T19:16:07.993011Z",
     "start_time": "2022-04-02T19:16:07.859631Z"
    }
   },
   "outputs": [],
   "source": [
    "Chisquares_results=scipy.stats.chi2_contingency(q41)"
   ]
  },
  {
   "cell_type": "code",
   "execution_count": 7,
   "id": "c3eff2dc",
   "metadata": {
    "ExecuteTime": {
     "end_time": "2022-04-02T19:16:08.162109Z",
     "start_time": "2022-04-02T19:16:08.090473Z"
    }
   },
   "outputs": [
    {
     "data": {
      "text/plain": [
       "(1.419106436194816,\n",
       " 0.23355053527979247,\n",
       " 1,\n",
       " array([[  2.06666667,  17.93333333],\n",
       "        [ 28.93333333, 251.06666667]]))"
      ]
     },
     "execution_count": 7,
     "metadata": {},
     "output_type": "execute_result"
    }
   ],
   "source": [
    "Chisquares_results"
   ]
  },
  {
   "cell_type": "code",
   "execution_count": 15,
   "id": "b93e0971",
   "metadata": {
    "ExecuteTime": {
     "end_time": "2022-04-02T19:20:29.177375Z",
     "start_time": "2022-04-02T19:20:29.130380Z"
    }
   },
   "outputs": [],
   "source": [
    " q42=pd.crosstab(q41[\"Phillippines\"],q41[\"Indonesia\"])\n",
    "    "
   ]
  },
  {
   "cell_type": "code",
   "execution_count": 17,
   "id": "056d2f01",
   "metadata": {
    "ExecuteTime": {
     "end_time": "2022-04-02T19:20:42.232163Z",
     "start_time": "2022-04-02T19:20:42.209201Z"
    }
   },
   "outputs": [
    {
     "data": {
      "text/html": [
       "<div>\n",
       "<style scoped>\n",
       "    .dataframe tbody tr th:only-of-type {\n",
       "        vertical-align: middle;\n",
       "    }\n",
       "\n",
       "    .dataframe tbody tr th {\n",
       "        vertical-align: top;\n",
       "    }\n",
       "\n",
       "    .dataframe thead th {\n",
       "        text-align: right;\n",
       "    }\n",
       "</style>\n",
       "<table border=\"1\" class=\"dataframe\">\n",
       "  <thead>\n",
       "    <tr style=\"text-align: right;\">\n",
       "      <th>Indonesia</th>\n",
       "      <th>Defective</th>\n",
       "      <th>Error Free</th>\n",
       "    </tr>\n",
       "    <tr>\n",
       "      <th>Phillippines</th>\n",
       "      <th></th>\n",
       "      <th></th>\n",
       "    </tr>\n",
       "  </thead>\n",
       "  <tbody>\n",
       "    <tr>\n",
       "      <th>Defective</th>\n",
       "      <td>2</td>\n",
       "      <td>27</td>\n",
       "    </tr>\n",
       "    <tr>\n",
       "      <th>Error Free</th>\n",
       "      <td>31</td>\n",
       "      <td>240</td>\n",
       "    </tr>\n",
       "  </tbody>\n",
       "</table>\n",
       "</div>"
      ],
      "text/plain": [
       "Indonesia     Defective  Error Free\n",
       "Phillippines                       \n",
       "Defective             2          27\n",
       "Error Free           31         240"
      ]
     },
     "execution_count": 17,
     "metadata": {},
     "output_type": "execute_result"
    }
   ],
   "source": [
    "q42"
   ]
  },
  {
   "cell_type": "code",
   "execution_count": 27,
   "id": "c96117c6",
   "metadata": {
    "ExecuteTime": {
     "end_time": "2022-04-02T19:24:27.254629Z",
     "start_time": "2022-04-02T19:24:27.238623Z"
    }
   },
   "outputs": [],
   "source": [
    "Chisquares_results=scipy.stats.chi2_contingency(q42)"
   ]
  },
  {
   "cell_type": "code",
   "execution_count": 28,
   "id": "93b794dd",
   "metadata": {
    "ExecuteTime": {
     "end_time": "2022-04-02T19:24:30.299963Z",
     "start_time": "2022-04-02T19:24:30.277953Z"
    }
   },
   "outputs": [
    {
     "data": {
      "text/plain": [
       "(0.1856391005881107,\n",
       " 0.6665712150680798,\n",
       " 1,\n",
       " array([[  3.19,  25.81],\n",
       "        [ 29.81, 241.19]]))"
      ]
     },
     "execution_count": 28,
     "metadata": {},
     "output_type": "execute_result"
    }
   ],
   "source": [
    "Chisquares_results1"
   ]
  },
  {
   "cell_type": "code",
   "execution_count": 26,
   "id": "e3f1b884",
   "metadata": {
    "ExecuteTime": {
     "end_time": "2022-04-02T19:23:53.333002Z",
     "start_time": "2022-04-02T19:23:53.283028Z"
    }
   },
   "outputs": [
    {
     "data": {
      "text/html": [
       "<div>\n",
       "<style scoped>\n",
       "    .dataframe tbody tr th:only-of-type {\n",
       "        vertical-align: middle;\n",
       "    }\n",
       "\n",
       "    .dataframe tbody tr th {\n",
       "        vertical-align: top;\n",
       "    }\n",
       "\n",
       "    .dataframe thead th {\n",
       "        text-align: right;\n",
       "    }\n",
       "</style>\n",
       "<table border=\"1\" class=\"dataframe\">\n",
       "  <thead>\n",
       "    <tr style=\"text-align: right;\">\n",
       "      <th>Phillippines</th>\n",
       "      <th>Defective</th>\n",
       "      <th>Error Free</th>\n",
       "    </tr>\n",
       "    <tr>\n",
       "      <th>India</th>\n",
       "      <th></th>\n",
       "      <th></th>\n",
       "    </tr>\n",
       "  </thead>\n",
       "  <tbody>\n",
       "    <tr>\n",
       "      <th>Defective</th>\n",
       "      <td>2</td>\n",
       "      <td>18</td>\n",
       "    </tr>\n",
       "    <tr>\n",
       "      <th>Error Free</th>\n",
       "      <td>27</td>\n",
       "      <td>253</td>\n",
       "    </tr>\n",
       "  </tbody>\n",
       "</table>\n",
       "</div>"
      ],
      "text/plain": [
       "Phillippines  Defective  Error Free\n",
       "India                              \n",
       "Defective             2          18\n",
       "Error Free           27         253"
      ]
     },
     "execution_count": 26,
     "metadata": {},
     "output_type": "execute_result"
    }
   ],
   "source": [
    " q43=pd.crosstab(q41[\"India\"],q41[\"Phillippines\"])\n",
    "q43"
   ]
  },
  {
   "cell_type": "code",
   "execution_count": 31,
   "id": "ec2e8701",
   "metadata": {
    "ExecuteTime": {
     "end_time": "2022-04-02T19:24:48.383452Z",
     "start_time": "2022-04-02T19:24:48.362466Z"
    }
   },
   "outputs": [],
   "source": [
    "Chisquares_results2=scipy.stats.chi2_contingency(q43)"
   ]
  },
  {
   "cell_type": "code",
   "execution_count": 33,
   "id": "e9fbf6b2",
   "metadata": {
    "ExecuteTime": {
     "end_time": "2022-04-02T19:24:55.260526Z",
     "start_time": "2022-04-02T19:24:55.240535Z"
    }
   },
   "outputs": [
    {
     "data": {
      "text/plain": [
       "(0.11520004362605206,\n",
       " 0.7342998926385209,\n",
       " 1,\n",
       " array([[  1.93333333,  18.06666667],\n",
       "        [ 27.06666667, 252.93333333]]))"
      ]
     },
     "execution_count": 33,
     "metadata": {},
     "output_type": "execute_result"
    }
   ],
   "source": [
    "Chisquares_results2"
   ]
  },
  {
   "cell_type": "code",
   "execution_count": 35,
   "id": "8cb77bba",
   "metadata": {
    "ExecuteTime": {
     "end_time": "2022-04-02T19:26:13.539955Z",
     "start_time": "2022-04-02T19:26:11.460165Z"
    }
   },
   "outputs": [],
   "source": [
    " q44=pd.crosstab(q41[\"Indonesia\"],q41[\"Malta\"])\n"
   ]
  },
  {
   "cell_type": "code",
   "execution_count": 37,
   "id": "4bfc7d27",
   "metadata": {
    "ExecuteTime": {
     "end_time": "2022-04-02T19:26:17.964795Z",
     "start_time": "2022-04-02T19:26:17.039401Z"
    }
   },
   "outputs": [
    {
     "data": {
      "text/html": [
       "<div>\n",
       "<style scoped>\n",
       "    .dataframe tbody tr th:only-of-type {\n",
       "        vertical-align: middle;\n",
       "    }\n",
       "\n",
       "    .dataframe tbody tr th {\n",
       "        vertical-align: top;\n",
       "    }\n",
       "\n",
       "    .dataframe thead th {\n",
       "        text-align: right;\n",
       "    }\n",
       "</style>\n",
       "<table border=\"1\" class=\"dataframe\">\n",
       "  <thead>\n",
       "    <tr style=\"text-align: right;\">\n",
       "      <th>Malta</th>\n",
       "      <th>Defective</th>\n",
       "      <th>Error Free</th>\n",
       "    </tr>\n",
       "    <tr>\n",
       "      <th>Indonesia</th>\n",
       "      <th></th>\n",
       "      <th></th>\n",
       "    </tr>\n",
       "  </thead>\n",
       "  <tbody>\n",
       "    <tr>\n",
       "      <th>Defective</th>\n",
       "      <td>9</td>\n",
       "      <td>24</td>\n",
       "    </tr>\n",
       "    <tr>\n",
       "      <th>Error Free</th>\n",
       "      <td>22</td>\n",
       "      <td>245</td>\n",
       "    </tr>\n",
       "  </tbody>\n",
       "</table>\n",
       "</div>"
      ],
      "text/plain": [
       "Malta       Defective  Error Free\n",
       "Indonesia                        \n",
       "Defective           9          24\n",
       "Error Free         22         245"
      ]
     },
     "execution_count": 37,
     "metadata": {},
     "output_type": "execute_result"
    }
   ],
   "source": [
    "q44"
   ]
  },
  {
   "cell_type": "code",
   "execution_count": 39,
   "id": "2bf948bc",
   "metadata": {
    "ExecuteTime": {
     "end_time": "2022-04-02T19:26:38.866371Z",
     "start_time": "2022-04-02T19:26:38.855378Z"
    }
   },
   "outputs": [],
   "source": [
    "Chisquares_results3=scipy.stats.chi2_contingency(q44)"
   ]
  },
  {
   "cell_type": "code",
   "execution_count": 40,
   "id": "e08038d5",
   "metadata": {
    "ExecuteTime": {
     "end_time": "2022-04-02T19:26:47.056982Z",
     "start_time": "2022-04-02T19:26:47.041358Z"
    }
   },
   "outputs": [
    {
     "data": {
      "text/plain": [
       "(9.52050868943337,\n",
       " 0.0020318825161213722,\n",
       " 1,\n",
       " array([[  3.41,  29.59],\n",
       "        [ 27.59, 239.41]]))"
      ]
     },
     "execution_count": 40,
     "metadata": {},
     "output_type": "execute_result"
    }
   ],
   "source": [
    "Chisquares_results3"
   ]
  }
 ],
 "metadata": {
  "kernelspec": {
   "display_name": "Python 3",
   "language": "python",
   "name": "python3"
  },
  "language_info": {
   "codemirror_mode": {
    "name": "ipython",
    "version": 3
   },
   "file_extension": ".py",
   "mimetype": "text/x-python",
   "name": "python",
   "nbconvert_exporter": "python",
   "pygments_lexer": "ipython3",
   "version": "3.8.8"
  },
  "toc": {
   "base_numbering": 1,
   "nav_menu": {},
   "number_sections": true,
   "sideBar": true,
   "skip_h1_title": false,
   "title_cell": "Table of Contents",
   "title_sidebar": "Contents",
   "toc_cell": false,
   "toc_position": {},
   "toc_section_display": true,
   "toc_window_display": false
  },
  "varInspector": {
   "cols": {
    "lenName": 16,
    "lenType": 16,
    "lenVar": 40
   },
   "kernels_config": {
    "python": {
     "delete_cmd_postfix": "",
     "delete_cmd_prefix": "del ",
     "library": "var_list.py",
     "varRefreshCmd": "print(var_dic_list())"
    },
    "r": {
     "delete_cmd_postfix": ") ",
     "delete_cmd_prefix": "rm(",
     "library": "var_list.r",
     "varRefreshCmd": "cat(var_dic_list()) "
    }
   },
   "types_to_exclude": [
    "module",
    "function",
    "builtin_function_or_method",
    "instance",
    "_Feature"
   ],
   "window_display": false
  }
 },
 "nbformat": 4,
 "nbformat_minor": 5
}
